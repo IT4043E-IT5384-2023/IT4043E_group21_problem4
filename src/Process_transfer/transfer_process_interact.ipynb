{
 "cells": [
  {
   "cell_type": "code",
   "execution_count": 4,
   "id": "afaf41b3-383b-424f-a80a-d844f364030c",
   "metadata": {},
   "outputs": [],
   "source": [
    "import pandas as pd\n",
    "import json\n",
    "import sys\n",
    "import os\n",
    "import time\n",
    "from tqdm import tqdm"
   ]
  },
  {
   "cell_type": "code",
   "execution_count": 3,
   "id": "49543a8f-7153-419a-8359-b7d323aed34e",
   "metadata": {},
   "outputs": [],
   "source": [
    "from pyspark.sql import SparkSession\n",
    "from pyspark.sql import functions as F\n",
    "from pyspark.sql.types import StructType, StructField, StringType, IntegerType, FloatType\n",
    "spark = SparkSession.builder \\\n",
    "                    .appName(\"example\") \\\n",
    "                    .config(\"spark.executor.memory\", \"10g\") \\\n",
    "                    .config(\"spark.executor.cores\", \"2\") \\\n",
    "                    .config(\"spark.driver.memory\", \"10g\").getOrCreate()\n",
    "\n",
    "spark.conf.set(\"spark.sql.execution.arrow.pyspark.enabled\", \"true\")"
   ]
  },
  {
   "cell_type": "code",
   "execution_count": 10,
   "id": "9996a842-b51c-48cc-9a88-5c737c977972",
   "metadata": {
    "tags": []
   },
   "outputs": [
    {
     "name": "stdout",
     "output_type": "stream",
     "text": [
      "Loaded json\n"
     ]
    }
   ],
   "source": [
    "from_file_path = \"transfer_from-001.json\"\n",
    "\n",
    "from_data = json.load(open(from_file_path, \"r\"))\n",
    "\n",
    "print(\"Loaded json\")\n",
    "# spark_from_df = spark.createDataFrame(from_df)"
   ]
  },
  {
   "cell_type": "code",
   "execution_count": 4,
   "id": "9bb35c49-9a1a-481c-936c-c31259882aaf",
   "metadata": {
    "tags": []
   },
   "outputs": [],
   "source": [
    "schema = StructType([\n",
    "    StructField(\"contract_address\", StringType(), True),\n",
    "    StructField(\"transaction_hash\", StringType(), True),\n",
    "    StructField(\"log_index\", IntegerType(), True),\n",
    "    StructField(\"block_number\", IntegerType(), True),\n",
    "    StructField(\"from_address\", StringType(), True),\n",
    "    StructField(\"to_address\", StringType(), True),\n",
    "    StructField(\"value\", FloatType(), True)\n",
    "])"
   ]
  },
  {
   "cell_type": "code",
   "execution_count": 3,
   "id": "5f1dcd5e-436c-4ae4-9533-85fa8856f85f",
   "metadata": {},
   "outputs": [
    {
     "data": {
      "text/plain": [
       "6159195"
      ]
     },
     "execution_count": 3,
     "metadata": {},
     "output_type": "execute_result"
    }
   ],
   "source": [
    "len(from_data)"
   ]
  },
  {
   "cell_type": "code",
   "execution_count": 41,
   "id": "8ffe44e5-5a06-4c87-aa63-c65542fd823a",
   "metadata": {},
   "outputs": [
    {
     "name": "stdout",
     "output_type": "stream",
     "text": [
      "+--------------------+--------------------+---------+------------+--------------------+--------------------+--------+\n",
      "|    contract_address|    transaction_hash|log_index|block_number|        from_address|          to_address|   value|\n",
      "+--------------------+--------------------+---------+------------+--------------------+--------------------+--------+\n",
      "|0xdac17f958d2ee52...|0x578be3b736d74ff...|      354|    18584924|0x40be1331dc553b6...|0x9c4593831c33330...|   500.0|\n",
      "|0xdac17f958d2ee52...|0x8b29fe0c65e6a7d...|      378|    18584924|0x991377861891c60...|0xd9c1e3c7e1c046d...|841.6164|\n",
      "|0xa0b86991c6218b3...|0x00a3afa81b2bc5a...|       32|    18584925|0x2f45724d7e384b3...|0x9008d19f58aabd9...|  5000.0|\n",
      "+--------------------+--------------------+---------+------------+--------------------+--------------------+--------+\n",
      "only showing top 3 rows\n",
      "\n"
     ]
    }
   ],
   "source": [
    "from_df.show(3)"
   ]
  },
  {
   "cell_type": "code",
   "execution_count": 6,
   "id": "2d4b9dac-b346-4353-b159-51450dc5c569",
   "metadata": {},
   "outputs": [
    {
     "data": {
      "text/plain": [
       "[{'contract_address': '0xdac17f958d2ee523a2206206994597c13d831ec7',\n",
       "  'transaction_hash': '0x578be3b736d74ffe00ae99702d29f165ae643b857b67ff956e1308cbd10f436a',\n",
       "  'log_index': 354,\n",
       "  'block_number': 18584924,\n",
       "  'from_address': '0x40be1331dc553b6962b3db197edb2ea371a19b98',\n",
       "  'to_address': '0x9c4593831c33330ba75bbed426ccf572e914f322',\n",
       "  'value': 500.0},\n",
       " {'contract_address': '0xdac17f958d2ee523a2206206994597c13d831ec7',\n",
       "  'transaction_hash': '0x8b29fe0c65e6a7de1f855471faab98c7d8c8f242bf392740cece9beff75b41fa',\n",
       "  'log_index': 378,\n",
       "  'block_number': 18584924,\n",
       "  'from_address': '0x991377861891c60d2f21373ec6c04eda9700d950',\n",
       "  'to_address': '0xd9c1e3c7e1c046da41353700b4987f07d7a1c212',\n",
       "  'value': 841.616373},\n",
       " {'contract_address': '0xa0b86991c6218b36c1d19d4a2e9eb0ce3606eb48',\n",
       "  'transaction_hash': '0x00a3afa81b2bc5a376476d1c51d17c84d0b1a9bf947baebe487777999e7dffe8',\n",
       "  'log_index': 32,\n",
       "  'block_number': 18584925,\n",
       "  'from_address': '0x2f45724d7e384b38d5c97206e78470544304887f',\n",
       "  'to_address': '0x9008d19f58aabd9ed0d60971565aa8510560ab41',\n",
       "  'value': 5000.0},\n",
       " {'contract_address': '0xdac17f958d2ee523a2206206994597c13d831ec7',\n",
       "  'transaction_hash': '0xe4edd685e61f706434f4ac1791ed28cf1040c32170e7d7c16099360a2616f15a',\n",
       "  'log_index': 60,\n",
       "  'block_number': 18584925,\n",
       "  'from_address': '0xcfc0f98f30742b6d880f90155d4ebb885e55ab33',\n",
       "  'to_address': '0x0b6e7eeb232e255596fc548499879c25d02e4bff',\n",
       "  'value': 92.975937},\n",
       " {'contract_address': '0x2dff88a56767223a5529ea5960da7a3f5f766406',\n",
       "  'transaction_hash': '0xb4198b0a580c81412abb99129d01242536f2293b18286839e0ec173dfa5c31fd',\n",
       "  'log_index': 72,\n",
       "  'block_number': 18584925,\n",
       "  'from_address': '0x28c6c06298d514db089934071355e5743bf21d60',\n",
       "  'to_address': '0xa16ae7193cd98ef4289f5e1fa0f5af6b2095d6a1',\n",
       "  'value': 7169.796}]"
      ]
     },
     "execution_count": 6,
     "metadata": {},
     "output_type": "execute_result"
    }
   ],
   "source": [
    "from_data[0:5]"
   ]
  },
  {
   "cell_type": "code",
   "execution_count": 8,
   "id": "527fc119-3fae-4681-9a3d-1c62b45b9256",
   "metadata": {},
   "outputs": [],
   "source": [
    "to_interact = from_df.groupby(['to_address','from_address'])[\"from_address\"].count().reset_index(name='from_add_count').rename(columns={\"to_address\": \"user\", \"from_address\": \"other_user\", \"from_add_count\":\"count\"})"
   ]
  },
  {
   "cell_type": "code",
   "execution_count": 11,
   "id": "b242ba05-113c-4da5-97ee-2d947599e663",
   "metadata": {},
   "outputs": [],
   "source": [
    "from_df = pd.DataFrame.from_records(from_data)"
   ]
  },
  {
   "cell_type": "code",
   "execution_count": 12,
   "id": "1010e648-3b4f-4bee-a8dd-e9ff98366be1",
   "metadata": {},
   "outputs": [],
   "source": [
    "from_interact = from_df.groupby(['from_address','to_address'])[\"to_address\"].count().reset_index(name='to_add_count').rename(columns={\"from_address\": \"user\", \"to_address\": \"other_user\", \"to_add_count\":\"count\"})"
   ]
  },
  {
   "cell_type": "code",
   "execution_count": 13,
   "id": "2c8bec7f-647b-4619-bbc5-2a541653fc6e",
   "metadata": {},
   "outputs": [
    {
     "name": "stdout",
     "output_type": "stream",
     "text": [
      "Stored 'from_interact' (DataFrame)\n"
     ]
    }
   ],
   "source": [
    "%store from_interact"
   ]
  },
  {
   "cell_type": "code",
   "execution_count": 9,
   "id": "33d08677-8636-444a-8965-cec1d1149b23",
   "metadata": {},
   "outputs": [
    {
     "name": "stdout",
     "output_type": "stream",
     "text": [
      "Stored 'to_interact' (DataFrame)\n"
     ]
    }
   ],
   "source": [
    "%store to_interact"
   ]
  },
  {
   "cell_type": "code",
   "execution_count": 12,
   "id": "041d2dd8-2206-4de3-a6cd-fc7b1906a29e",
   "metadata": {},
   "outputs": [
    {
     "data": {
      "text/plain": [
       "(2181346, 3)"
      ]
     },
     "execution_count": 12,
     "metadata": {},
     "output_type": "execute_result"
    }
   ],
   "source": [
    "to_interact.shape"
   ]
  },
  {
   "cell_type": "code",
   "execution_count": 10,
   "id": "0b747e35-f0d4-4245-b174-34042ac79196",
   "metadata": {},
   "outputs": [
    {
     "data": {
      "text/plain": [
       "(2354785, 3)"
      ]
     },
     "execution_count": 10,
     "metadata": {},
     "output_type": "execute_result"
    }
   ],
   "source": [
    "from_interact.shape"
   ]
  },
  {
   "cell_type": "code",
   "execution_count": 14,
   "id": "708e39ff-3ff1-4fff-9e83-264f5af422d2",
   "metadata": {},
   "outputs": [
    {
     "data": {
      "text/html": [
       "<div>\n",
       "<style scoped>\n",
       "    .dataframe tbody tr th:only-of-type {\n",
       "        vertical-align: middle;\n",
       "    }\n",
       "\n",
       "    .dataframe tbody tr th {\n",
       "        vertical-align: top;\n",
       "    }\n",
       "\n",
       "    .dataframe thead th {\n",
       "        text-align: right;\n",
       "    }\n",
       "</style>\n",
       "<table border=\"1\" class=\"dataframe\">\n",
       "  <thead>\n",
       "    <tr style=\"text-align: right;\">\n",
       "      <th></th>\n",
       "      <th>user</th>\n",
       "      <th>other_user</th>\n",
       "      <th>count</th>\n",
       "      <th>idx</th>\n",
       "    </tr>\n",
       "  </thead>\n",
       "  <tbody>\n",
       "    <tr>\n",
       "      <th>0</th>\n",
       "      <td>0x00000000000030e5959659622cb7eb50aa20ee52</td>\n",
       "      <td>0x01949723055a451229c7ba3a817937c966748f76</td>\n",
       "      <td>2</td>\n",
       "      <td>0x00000000000030e5959659622cb7eb50aa20ee520x01...</td>\n",
       "    </tr>\n",
       "    <tr>\n",
       "      <th>1</th>\n",
       "      <td>0x00000000000030e5959659622cb7eb50aa20ee52</td>\n",
       "      <td>0x058d79a4c6eb5b11d0248993ffa1faa168ddd3c0</td>\n",
       "      <td>4</td>\n",
       "      <td>0x00000000000030e5959659622cb7eb50aa20ee520x05...</td>\n",
       "    </tr>\n",
       "    <tr>\n",
       "      <th>2</th>\n",
       "      <td>0x00000000000030e5959659622cb7eb50aa20ee52</td>\n",
       "      <td>0x06b1655b9d560de112759b4f0bf57d6f005e72fe</td>\n",
       "      <td>2</td>\n",
       "      <td>0x00000000000030e5959659622cb7eb50aa20ee520x06...</td>\n",
       "    </tr>\n",
       "    <tr>\n",
       "      <th>3</th>\n",
       "      <td>0x00000000000030e5959659622cb7eb50aa20ee52</td>\n",
       "      <td>0x06bfac47528d0d6a2de3b1ae5d8214ad45b4b945</td>\n",
       "      <td>4</td>\n",
       "      <td>0x00000000000030e5959659622cb7eb50aa20ee520x06...</td>\n",
       "    </tr>\n",
       "    <tr>\n",
       "      <th>4</th>\n",
       "      <td>0x00000000000030e5959659622cb7eb50aa20ee52</td>\n",
       "      <td>0x0928592f80d63d474257a7b797120e301ba2d987</td>\n",
       "      <td>10</td>\n",
       "      <td>0x00000000000030e5959659622cb7eb50aa20ee520x09...</td>\n",
       "    </tr>\n",
       "  </tbody>\n",
       "</table>\n",
       "</div>"
      ],
      "text/plain": [
       "                                         user  \\\n",
       "0  0x00000000000030e5959659622cb7eb50aa20ee52   \n",
       "1  0x00000000000030e5959659622cb7eb50aa20ee52   \n",
       "2  0x00000000000030e5959659622cb7eb50aa20ee52   \n",
       "3  0x00000000000030e5959659622cb7eb50aa20ee52   \n",
       "4  0x00000000000030e5959659622cb7eb50aa20ee52   \n",
       "\n",
       "                                   other_user  count  \\\n",
       "0  0x01949723055a451229c7ba3a817937c966748f76      2   \n",
       "1  0x058d79a4c6eb5b11d0248993ffa1faa168ddd3c0      4   \n",
       "2  0x06b1655b9d560de112759b4f0bf57d6f005e72fe      2   \n",
       "3  0x06bfac47528d0d6a2de3b1ae5d8214ad45b4b945      4   \n",
       "4  0x0928592f80d63d474257a7b797120e301ba2d987     10   \n",
       "\n",
       "                                                 idx  \n",
       "0  0x00000000000030e5959659622cb7eb50aa20ee520x01...  \n",
       "1  0x00000000000030e5959659622cb7eb50aa20ee520x05...  \n",
       "2  0x00000000000030e5959659622cb7eb50aa20ee520x06...  \n",
       "3  0x00000000000030e5959659622cb7eb50aa20ee520x06...  \n",
       "4  0x00000000000030e5959659622cb7eb50aa20ee520x09...  "
      ]
     },
     "execution_count": 14,
     "metadata": {},
     "output_type": "execute_result"
    }
   ],
   "source": [
    "to_interact[\"idx\"] = to_interact[\"user\"]+to_interact[\"other_user\"]\n",
    "to_interact.head()"
   ]
  },
  {
   "cell_type": "code",
   "execution_count": 15,
   "id": "3606f237-3c68-47cc-ac65-17e233d75eeb",
   "metadata": {},
   "outputs": [],
   "source": [
    "to_interact_dict = to_interact.set_index(\"idx\").to_dict('index')"
   ]
  },
  {
   "cell_type": "code",
   "execution_count": 16,
   "id": "fa9efe9b-56c0-4937-8d3d-33db2cf43b86",
   "metadata": {},
   "outputs": [],
   "source": [
    "from_interact[\"idx\"] = from_interact[\"user\"] + from_interact[\"other_user\"]"
   ]
  },
  {
   "cell_type": "code",
   "execution_count": 18,
   "id": "36a5b581-129a-4b3b-b014-eb1c8f01421a",
   "metadata": {},
   "outputs": [],
   "source": [
    "from_interact_dict = from_interact.set_index(\"idx\").to_dict('index')"
   ]
  },
  {
   "cell_type": "code",
   "execution_count": 19,
   "id": "40e4daa6-742e-4fed-b21a-812207152c75",
   "metadata": {},
   "outputs": [
    {
     "name": "stdout",
     "output_type": "stream",
     "text": [
      "Stored 'from_interact_dict' (dict)\n"
     ]
    }
   ],
   "source": [
    "%store from_interact_dict"
   ]
  },
  {
   "cell_type": "code",
   "execution_count": 2,
   "id": "c22c58ea-4894-4159-8e76-3bee8f19ae90",
   "metadata": {},
   "outputs": [],
   "source": [
    "%store -r"
   ]
  },
  {
   "cell_type": "code",
   "execution_count": 5,
   "id": "a399bdef-e91f-42af-a98a-3be67ed01539",
   "metadata": {
    "tags": []
   },
   "outputs": [
    {
     "name": "stderr",
     "output_type": "stream",
     "text": [
      "Merging to_interact_dict: 100%|███████████████████████████████████████| 2181346/2181346 [00:01<00:00, 1839940.67item/s]\n",
      "Merging from_interact_dict: 100%|█████████████████████████████████████| 2354785/2354785 [00:01<00:00, 1486076.02item/s]"
     ]
    },
    {
     "name": "stdout",
     "output_type": "stream",
     "text": [
      "4224872\n"
     ]
    },
    {
     "name": "stderr",
     "output_type": "stream",
     "text": [
      "\n"
     ]
    }
   ],
   "source": [
    "interact_dict = {}\n",
    "\n",
    "# Merge to_interact_dict\n",
    "for key, value in tqdm(to_interact_dict.items(), desc=\"Merging to_interact_dict\", unit=\"item\"):\n",
    "    interact_dict[key] = value\n",
    "\n",
    "# Merge from_interact_dict\n",
    "for key, value in tqdm(from_interact_dict.items(), desc=\"Merging from_interact_dict\", unit=\"item\"):\n",
    "    if key in interact_dict:\n",
    "        # If key already exists, update the count\n",
    "        interact_dict[key]['count'] += value['count']\n",
    "    else:\n",
    "        # If key doesn't exist, add the item\n",
    "        interact_dict[key] = value\n",
    "\n",
    "print(len(interact_dict))"
   ]
  },
  {
   "cell_type": "code",
   "execution_count": 14,
   "id": "58c222ff-3c54-4e41-b00f-a81f7f13abae",
   "metadata": {},
   "outputs": [],
   "source": [
    "transfer_interact_info = list(interact_dict.values())"
   ]
  },
  {
   "cell_type": "code",
   "execution_count": 15,
   "id": "99a3f6bf-2aee-4273-b28a-4e2abea3a927",
   "metadata": {},
   "outputs": [
    {
     "name": "stdout",
     "output_type": "stream",
     "text": [
      "The list has been dumped\n"
     ]
    }
   ],
   "source": [
    "# Dump the list into the JSON file\n",
    "with open(\"transfer_interact_info.json\", 'w') as json_file:\n",
    "    json.dump(transfer_interact_info, json_file)\n",
    "\n",
    "print(f\"The list has been dumped\")"
   ]
  },
  {
   "cell_type": "code",
   "execution_count": null,
   "id": "cfdfe52f-5045-4163-be51-10e068acb08d",
   "metadata": {},
   "outputs": [],
   "source": []
  },
  {
   "cell_type": "code",
   "execution_count": null,
   "id": "f8fcc617-d4f3-4c1c-a9c4-41172929a63b",
   "metadata": {},
   "outputs": [],
   "source": [
    "start_time = time.time()\n",
    "def process_group(group):\n",
    "    # Calculate the total amount for each (token, to_address) pair\n",
    "    aggregated_df = group.groupby([\"contract_address\"])['value'].sum().reset_index()\n",
    "\n",
    "    # Collect the necessary information for the sending_info dictionary\n",
    "    token_list = aggregated_df['contract_address'].tolist()\n",
    "    amount_list = aggregated_df['value'].tolist()\n",
    "    time_list = group['block_number'].tolist()\n",
    "    addresses_list = group['to_address'].unique().tolist()\n",
    "\n",
    "    # Create the final dictionary for the current from_address\n",
    "    result_dict = {\n",
    "        \"id\": f\"0x1_{group.name}\",\n",
    "        \"address\": group.name,\n",
    "        \"sending\": {\n",
    "            \"token\": token_list,\n",
    "            \"amount\": amount_list,\n",
    "            \"time\": time_list,\n",
    "            \"addresses\": addresses_list\n",
    "        }\n",
    "    }\n",
    "\n",
    "    return result_dict\n",
    "\n",
    "# Filter the DataFrame for the selected addresses and apply the custom function\n",
    "res_from = from_df.groupby('to_address').apply(process_group).tolist()\n",
    "\n",
    "print(len(res))\n",
    "end_time = time.time()\n",
    "\n",
    "# Print the execution time\n",
    "execution_time = end_time - start_time\n",
    "print(f\"Execution Time: {execution_time} seconds\")"
   ]
  },
  {
   "cell_type": "code",
   "execution_count": null,
   "id": "6b595ea5-ee4a-48c5-8190-8fdbf0052604",
   "metadata": {},
   "outputs": [],
   "source": [
    "start_time = time.time()\n",
    "def process_group(group):\n",
    "    # Calculate the total amount for each (token, to_address) pair\n",
    "    aggregated_df = group.groupby([\"contract_address\"])['value'].sum().reset_index()\n",
    "\n",
    "    # Collect the necessary information for the sending_info dictionary\n",
    "    token_list = aggregated_df['contract_address'].tolist()\n",
    "    amount_list = aggregated_df['value'].tolist()\n",
    "    time_list = group['block_number'].tolist()\n",
    "    addresses_list = group['to_address'].unique().tolist()\n",
    "\n",
    "    # Create the final dictionary for the current from_address\n",
    "    result_dict = {\n",
    "        \"id\": f\"0x1_{group.name}\",\n",
    "        \"address\": group.name,\n",
    "        \"receiving\": {\n",
    "            \"token\": token_list,\n",
    "            \"amount\": amount_list,\n",
    "            \"time\": time_list,\n",
    "            \"addresses\": addresses_list\n",
    "        }\n",
    "    }\n",
    "\n",
    "    return result_dict\n",
    "\n",
    "# Filter the DataFrame for the selected addresses and apply the custom function\n",
    "res_to = to_df.groupby('from_address').apply(process_group).tolist()\n",
    "\n",
    "print(len(res))\n",
    "end_time = time.time()\n",
    "\n",
    "# Print the execution time\n",
    "execution_time = end_time - start_time\n",
    "print(f\"Execution Time: {execution_time} seconds\")"
   ]
  },
  {
   "cell_type": "code",
   "execution_count": 12,
   "id": "50264eb3-5ee8-4d9c-bbfd-43877afad946",
   "metadata": {},
   "outputs": [
    {
     "name": "stdout",
     "output_type": "stream",
     "text": [
      "The list has been dumped\n"
     ]
    }
   ],
   "source": [
    "# Dump the list into the JSON file\n",
    "with open(\"transfer_to.json\", 'w') as json_file:\n",
    "    json.dump(res_to, json_file)\n",
    "\n",
    "print(f\"The list has been dumped\")"
   ]
  },
  {
   "cell_type": "code",
   "execution_count": null,
   "id": "b9002aa1-ce59-4e8b-b39e-cad7c56715a9",
   "metadata": {},
   "outputs": [],
   "source": [
    "# Dump the list into the JSON file\n",
    "with open(\"transfer_to.json\", 'w') as json_file:\n",
    "    json.dump(res_from, json_file)\n",
    "\n",
    "print(f\"The list has been dumped\")"
   ]
  }
 ],
 "metadata": {
  "kernelspec": {
   "display_name": "Python 3",
   "language": "python",
   "name": "python3"
  },
  "language_info": {
   "codemirror_mode": {
    "name": "ipython",
    "version": 3
   },
   "file_extension": ".py",
   "mimetype": "text/x-python",
   "name": "python",
   "nbconvert_exporter": "python",
   "pygments_lexer": "ipython3",
   "version": "3.8.5"
  }
 },
 "nbformat": 4,
 "nbformat_minor": 5
}
