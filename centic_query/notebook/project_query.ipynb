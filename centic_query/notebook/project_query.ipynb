{
 "cells": [
  {
   "cell_type": "code",
   "execution_count": 13,
   "metadata": {},
   "outputs": [],
   "source": [
    "import json\n",
    "from collections import defaultdict\n",
    "import pandas as pd\n",
    "\n",
    "pd.set_option(\"display.max_rows\", None)"
   ]
  },
  {
   "cell_type": "code",
   "execution_count": 2,
   "metadata": {},
   "outputs": [],
   "source": [
    "with open(\"knowledge_graph.projects.json\", encoding=\"utf-8\") as f:\n",
    "    kg = json.load(f)"
   ]
  },
  {
   "cell_type": "code",
   "execution_count": 3,
   "metadata": {},
   "outputs": [
    {
     "data": {
      "text/plain": [
       "28412"
      ]
     },
     "execution_count": 3,
     "metadata": {},
     "output_type": "execute_result"
    }
   ],
   "source": [
    "len(kg)"
   ]
  },
  {
   "cell_type": "code",
   "execution_count": 14,
   "metadata": {},
   "outputs": [],
   "source": [
    "df = pd.DataFrame(kg)"
   ]
  },
  {
   "cell_type": "code",
   "execution_count": null,
   "metadata": {},
   "outputs": [],
   "source": [
    "df.info()"
   ]
  },
  {
   "cell_type": "code",
   "execution_count": 118,
   "metadata": {},
   "outputs": [],
   "source": [
    "fields = defaultdict(int)\n",
    "\n",
    "for item in kg:\n",
    "    for k in item.keys():\n",
    "        fields[k] += 1"
   ]
  },
  {
   "cell_type": "code",
   "execution_count": 119,
   "metadata": {},
   "outputs": [],
   "source": [
    "new = [k for k in kg if k.get(\"category\") is not None and k.get(\"category\").lower() in [\"PFPs\".lower(), \"Art\".lower(), \"Dexes\".lower(), \"Gaming\".lower(), \"game\"]]\n",
    "dn = pd.DataFrame(new)"
   ]
  },
  {
   "cell_type": "code",
   "execution_count": 120,
   "metadata": {},
   "outputs": [
    {
     "data": {
      "text/plain": [
       "_id                           9574\n",
       "sources                       9574\n",
       "name                          9574\n",
       "category                      9574\n",
       "id                            9574\n",
       "imgUrl                        9572\n",
       "lastUpdated                   9348\n",
       "lastUpdatedAt                 9348\n",
       "description                   9259\n",
       "deployedChains                9240\n",
       "tokenAddresses                8691\n",
       "volume                        8053\n",
       "numberOfOwners                8053\n",
       "numberOfItems                 8053\n",
       "volumeChangeLogs              8046\n",
       "volumeChangeRate              8033\n",
       "numberOfListedItems           8025\n",
       "idOpensea                     8025\n",
       "links                         8014\n",
       "marketShareNFT                7806\n",
       "rankNFT                       7806\n",
       "priceChangeLogs               7756\n",
       "price                         7558\n",
       "infoChecked                   2823\n",
       "idDefiLlama                   1274\n",
       "tvl                           1234\n",
       "tvlChangeLogs                 1233\n",
       "socialAccounts                1220\n",
       "marketShareDefi               1209\n",
       "rankDefi                      1209\n",
       "symbol                         941\n",
       "tvlChangeRate                  888\n",
       "subprojects                    880\n",
       "marketShare                    803\n",
       "rankTVL                        803\n",
       "forkedFrom                     678\n",
       "coinId                         489\n",
       "tvlByChainsChangeLogs          480\n",
       "tvlByChains                    480\n",
       "idCMC                          372\n",
       "marketShareExchange            369\n",
       "tradingVolumeChangeLogs        369\n",
       "tradingVolume                  369\n",
       "spotVolume                     369\n",
       "spotVolumeChangeLogs           369\n",
       "rankExchange                   369\n",
       "derivativeVolume               368\n",
       "derivativeVolumeChangeLogs     368\n",
       "dexVolume                      307\n",
       "dexVolumeChangeLogs            307\n",
       "idDApp                         244\n",
       "socialSignal                   244\n",
       "transactionVolume              244\n",
       "numberOfTransactions           244\n",
       "numberOfUsers                  244\n",
       "parentProtocol                 212\n",
       "capPerTVL                      200\n",
       "launchedAt                     173\n",
       "idBinance                      129\n",
       "contractAddresses              126\n",
       "priceChangeRate                125\n",
       "oldImgUrl                       75\n",
       "spotVolumeGraph                  4\n",
       "spotVolumeGraphIncrease          4\n",
       "numberOfCoins                    4\n",
       "spotMarkets                      4\n",
       "spotVolumeChangeRate             3\n",
       "dexVolumeChangeRate              3\n",
       "takerFeesRate                    2\n",
       "openInterests                    2\n",
       "derivativeMarkets                2\n",
       "makerFeesRate                    2\n",
       "weeklyVisits                     2\n",
       "derivativeVolumeChangeRate       1\n",
       "numberOfCoin                     1\n",
       "supportedTokenAddresses          1\n",
       "avgLiquidity                     0\n",
       "fiatSupported                    0\n",
       "dtype: int64"
      ]
     },
     "execution_count": 120,
     "metadata": {},
     "output_type": "execute_result"
    }
   ],
   "source": [
    "dn.notnull().sum().sort_values(ascending=False).head(None)"
   ]
  },
  {
   "cell_type": "code",
   "execution_count": 121,
   "metadata": {},
   "outputs": [
    {
     "name": "stdout",
     "output_type": "stream",
     "text": [
      "not found chain: 334\n"
     ]
    }
   ],
   "source": [
    "chains = defaultdict(list)\n",
    "cnt = 0\n",
    "for chain_list, prj in dn[[\"deployedChains\", \"id\"]].values:\n",
    "    if isinstance(chain_list, (list, tuple)):\n",
    "        for c in chain_list:\n",
    "            chains[c].append(prj)\n",
    "    else:\n",
    "        cnt += 1\n",
    "print(\"not found chain:\", cnt)"
   ]
  },
  {
   "cell_type": "code",
   "execution_count": 122,
   "metadata": {},
   "outputs": [
    {
     "data": {
      "text/plain": [
       "dict_keys(['0x1', '0x89', '0x38', '0xa4b1', '0xa86a', '0xfa', '0x2b6653dc', '0xa'])"
      ]
     },
     "execution_count": 122,
     "metadata": {},
     "output_type": "execute_result"
    }
   ],
   "source": [
    "chains.keys()"
   ]
  },
  {
   "cell_type": "code",
   "execution_count": 124,
   "metadata": {},
   "outputs": [],
   "source": [
    "import psycopg2\n",
    "\n",
    "conn = psycopg2.connect(\n",
    "    database=\"postgres\",\n",
    "    host=\"34.126.75.56\",\n",
    "    port=\"5432\",\n",
    "    user=\"student_token_transfer\",\n",
    "    password=\"svbk_2023\"\n",
    ")"
   ]
  },
  {
   "cell_type": "code",
   "execution_count": 125,
   "metadata": {},
   "outputs": [],
   "source": [
    "cur = conn.cursor()"
   ]
  },
  {
   "cell_type": "code",
   "execution_count": null,
   "metadata": {},
   "outputs": [],
   "source": []
  },
  {
   "cell_type": "code",
   "execution_count": 136,
   "metadata": {},
   "outputs": [],
   "source": [
    "def test(chain_id: str):\n",
    "    cur.execute(f\"SELECT DISTINCT(project) FROM chain_{chain_id}.smart_contract\")\n",
    "    db_project = cur.fetchall()\n",
    "    print(\"num project in postgres, chain\", chain_id, \"=\", len(db_project))\n",
    "    db_project = [d[0] for d in db_project]\n",
    "    nf = []\n",
    "\n",
    "    for c in chains[chain_id]:\n",
    "        if c not in db_project:\n",
    "            nf.append(c)\n",
    "    print(\"not found:\", len(nf))\n",
    "    print(\"num project in mongodb, chain\", chain_id, \"=\", len(chains[chain_id]))"
   ]
  },
  {
   "cell_type": "code",
   "execution_count": 137,
   "metadata": {},
   "outputs": [
    {
     "name": "stdout",
     "output_type": "stream",
     "text": [
      "0x1\n",
      "num project in postgres, chain 0x1 = 7953\n",
      "not found: 4333\n",
      "num project in mongodb, chain 0x1 = 5397\n",
      "\n",
      "0x89\n",
      "num project in postgres, chain 0x89 = 665\n",
      "not found: 2553\n",
      "num project in mongodb, chain 0x89 = 2577\n",
      "\n",
      "0x38\n",
      "num project in postgres, chain 0x38 = 217\n",
      "not found: 345\n",
      "num project in mongodb, chain 0x38 = 364\n",
      "\n",
      "0xa4b1\n",
      "num project in postgres, chain 0xa4b1 = 550\n",
      "not found: 319\n",
      "num project in mongodb, chain 0xa4b1 = 344\n",
      "\n",
      "0xa86a\n",
      "num project in postgres, chain 0xa86a = 396\n",
      "not found: 206\n",
      "num project in mongodb, chain 0xa86a = 221\n",
      "\n",
      "0xfa\n",
      "num project in postgres, chain 0xfa = 114\n",
      "not found: 63\n",
      "num project in mongodb, chain 0xfa = 68\n",
      "\n",
      "0x2b6653dc\n",
      "num project in postgres, chain 0x2b6653dc = 0\n",
      "not found: 11\n",
      "num project in mongodb, chain 0x2b6653dc = 11\n",
      "\n",
      "0xa\n",
      "num project in postgres, chain 0xa = 270\n",
      "not found: 105\n",
      "num project in mongodb, chain 0xa = 119\n",
      "\n"
     ]
    }
   ],
   "source": [
    "for chain_id in chains:\n",
    "    print(chain_id)\n",
    "    test(chain_id)\n",
    "    print()"
   ]
  },
  {
   "cell_type": "code",
   "execution_count": null,
   "metadata": {},
   "outputs": [],
   "source": []
  }
 ],
 "metadata": {
  "kernelspec": {
   "display_name": "Python 3",
   "language": "python",
   "name": "python3"
  },
  "language_info": {
   "codemirror_mode": {
    "name": "ipython",
    "version": 3
   },
   "file_extension": ".py",
   "mimetype": "text/x-python",
   "name": "python",
   "nbconvert_exporter": "python",
   "pygments_lexer": "ipython3",
   "version": "3.8.5"
  }
 },
 "nbformat": 4,
 "nbformat_minor": 4
}
