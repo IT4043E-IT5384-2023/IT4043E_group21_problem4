{
 "cells": [
  {
   "cell_type": "code",
   "execution_count": 1,
   "metadata": {},
   "outputs": [],
   "source": [
    "import json\n",
    "from collections import defaultdict\n",
    "import pandas as pd\n",
    "\n"
   ]
  },
  {
   "cell_type": "code",
   "execution_count": 14,
   "metadata": {},
   "outputs": [
    {
     "name": "stdout",
     "output_type": "stream",
     "text": [
      "/Users/nguyenhuyhai/20231/bigdata/group21_problem4\n"
     ]
    }
   ],
   "source": [
    "cd .."
   ]
  },
  {
   "cell_type": "code",
   "execution_count": 15,
   "metadata": {},
   "outputs": [],
   "source": [
    "with open(\"data/profiler/projects.json\", encoding=\"utf-8\") as f:\n",
    "    kg = json.load(f)"
   ]
  },
  {
   "cell_type": "code",
   "execution_count": 29,
   "metadata": {},
   "outputs": [],
   "source": [
    "df = pd.DataFrame(kg).explode(\"deployedChains\")"
   ]
  },
  {
   "cell_type": "code",
   "execution_count": 30,
   "metadata": {},
   "outputs": [
    {
     "data": {
      "text/html": [
       "<div>\n",
       "<style scoped>\n",
       "    .dataframe tbody tr th:only-of-type {\n",
       "        vertical-align: middle;\n",
       "    }\n",
       "\n",
       "    .dataframe tbody tr th {\n",
       "        vertical-align: top;\n",
       "    }\n",
       "\n",
       "    .dataframe thead th {\n",
       "        text-align: right;\n",
       "    }\n",
       "</style>\n",
       "<table border=\"1\" class=\"dataframe\">\n",
       "  <thead>\n",
       "    <tr style=\"text-align: right;\">\n",
       "      <th></th>\n",
       "      <th>contract_addresses</th>\n",
       "      <th>_id</th>\n",
       "      <th>deployedChains</th>\n",
       "    </tr>\n",
       "  </thead>\n",
       "  <tbody>\n",
       "    <tr>\n",
       "      <th>0</th>\n",
       "      <td>[0x78627c6798b9db51ca48dea1ff6ce0f5c5a66f81]</td>\n",
       "      <td>crystalfrogsofficial</td>\n",
       "      <td>0x1</td>\n",
       "    </tr>\n",
       "    <tr>\n",
       "      <th>1</th>\n",
       "      <td>[0x095dcca826ef15c8ac06088be7f5ff85c506191a]</td>\n",
       "      <td>hanazawakananft</td>\n",
       "      <td>0x1</td>\n",
       "    </tr>\n",
       "    <tr>\n",
       "      <th>2</th>\n",
       "      <td>[0xfe58fc763ba915013aee93c6f0890bfddbe03608]</td>\n",
       "      <td>beepboopbotz</td>\n",
       "      <td>0x1</td>\n",
       "    </tr>\n",
       "    <tr>\n",
       "      <th>3</th>\n",
       "      <td>[0x91673149ffae3274b32997288395d07a8213e41f]</td>\n",
       "      <td>junkyarddogs</td>\n",
       "      <td>0x1</td>\n",
       "    </tr>\n",
       "    <tr>\n",
       "      <th>4</th>\n",
       "      <td>[0x104f4986e647a5a3f4d1fdeae72e35f0c92ab484]</td>\n",
       "      <td>polarfrensnft</td>\n",
       "      <td>0x1</td>\n",
       "    </tr>\n",
       "    <tr>\n",
       "      <th>...</th>\n",
       "      <td>...</td>\n",
       "      <td>...</td>\n",
       "      <td>...</td>\n",
       "    </tr>\n",
       "    <tr>\n",
       "      <th>1125</th>\n",
       "      <td>[0x9a38dec0590abc8c883d72e52391090e948ddf12]</td>\n",
       "      <td>everai</td>\n",
       "      <td>0x1</td>\n",
       "    </tr>\n",
       "    <tr>\n",
       "      <th>1126</th>\n",
       "      <td>[0xd24a7c412f2279b1901e591898c1e96c140be8c5]</td>\n",
       "      <td>patchworkkingdoms</td>\n",
       "      <td>0x1</td>\n",
       "    </tr>\n",
       "    <tr>\n",
       "      <th>1127</th>\n",
       "      <td>[0xa379cec69303e3ec0fea64d9298f126658276f63]</td>\n",
       "      <td>punks2hanzo</td>\n",
       "      <td>0x1</td>\n",
       "    </tr>\n",
       "    <tr>\n",
       "      <th>1128</th>\n",
       "      <td>[0x99c2546aebc070fb1f286a346ec4d25e70533474]</td>\n",
       "      <td>quadrums</td>\n",
       "      <td>0x1</td>\n",
       "    </tr>\n",
       "    <tr>\n",
       "      <th>1129</th>\n",
       "      <td>[0x33a4cfc925ad40e5bb2b9b2462d7a1a5a5da4476]</td>\n",
       "      <td>pills</td>\n",
       "      <td>0x1</td>\n",
       "    </tr>\n",
       "  </tbody>\n",
       "</table>\n",
       "<p>1229 rows × 3 columns</p>\n",
       "</div>"
      ],
      "text/plain": [
       "                                contract_addresses                   _id  \\\n",
       "0     [0x78627c6798b9db51ca48dea1ff6ce0f5c5a66f81]  crystalfrogsofficial   \n",
       "1     [0x095dcca826ef15c8ac06088be7f5ff85c506191a]       hanazawakananft   \n",
       "2     [0xfe58fc763ba915013aee93c6f0890bfddbe03608]          beepboopbotz   \n",
       "3     [0x91673149ffae3274b32997288395d07a8213e41f]          junkyarddogs   \n",
       "4     [0x104f4986e647a5a3f4d1fdeae72e35f0c92ab484]         polarfrensnft   \n",
       "...                                            ...                   ...   \n",
       "1125  [0x9a38dec0590abc8c883d72e52391090e948ddf12]                everai   \n",
       "1126  [0xd24a7c412f2279b1901e591898c1e96c140be8c5]     patchworkkingdoms   \n",
       "1127  [0xa379cec69303e3ec0fea64d9298f126658276f63]           punks2hanzo   \n",
       "1128  [0x99c2546aebc070fb1f286a346ec4d25e70533474]              quadrums   \n",
       "1129  [0x33a4cfc925ad40e5bb2b9b2462d7a1a5a5da4476]                 pills   \n",
       "\n",
       "     deployedChains  \n",
       "0               0x1  \n",
       "1               0x1  \n",
       "2               0x1  \n",
       "3               0x1  \n",
       "4               0x1  \n",
       "...             ...  \n",
       "1125            0x1  \n",
       "1126            0x1  \n",
       "1127            0x1  \n",
       "1128            0x1  \n",
       "1129            0x1  \n",
       "\n",
       "[1229 rows x 3 columns]"
      ]
     },
     "execution_count": 30,
     "metadata": {},
     "output_type": "execute_result"
    }
   ],
   "source": [
    "df[['contract_addresses','_id','deployedChains']]"
   ]
  },
  {
   "cell_type": "code",
   "execution_count": null,
   "metadata": {},
   "outputs": [],
   "source": []
  },
  {
   "cell_type": "markdown",
   "metadata": {},
   "source": [
    "## BNB"
   ]
  },
  {
   "cell_type": "code",
   "execution_count": 32,
   "metadata": {},
   "outputs": [],
   "source": [
    "bnb_df = df[df['deployedChains']=='0x38']"
   ]
  },
  {
   "cell_type": "code",
   "execution_count": 35,
   "metadata": {},
   "outputs": [],
   "source": [
    "bnb_df[['contract_addresses','_id','deployedChains']]\n",
    "contrat_address = bnb_df.contract_addresses.tolist()"
   ]
  },
  {
   "cell_type": "code",
   "execution_count": null,
   "metadata": {},
   "outputs": [],
   "source": []
  },
  {
   "cell_type": "code",
   "execution_count": null,
   "metadata": {},
   "outputs": [],
   "source": []
  },
  {
   "cell_type": "code",
   "execution_count": null,
   "metadata": {},
   "outputs": [],
   "source": []
  }
 ],
 "metadata": {
  "kernelspec": {
   "display_name": "Sea",
   "language": "python",
   "name": "python3"
  },
  "language_info": {
   "codemirror_mode": {
    "name": "ipython",
    "version": 3
   },
   "file_extension": ".py",
   "mimetype": "text/x-python",
   "name": "python",
   "nbconvert_exporter": "python",
   "pygments_lexer": "ipython3",
   "version": "3.10.4"
  }
 },
 "nbformat": 4,
 "nbformat_minor": 2
}
